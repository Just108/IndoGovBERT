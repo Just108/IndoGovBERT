{
 "cells": [
  {
   "cell_type": "markdown",
   "metadata": {},
   "source": [
    "https://medium.com/doma/using-nlp-bert-to-improve-ocr-accuracy-385c98ae174c"
   ]
  },
  {
   "cell_type": "code",
   "execution_count": null,
   "metadata": {},
   "outputs": [],
   "source": [
    "import fitz\n",
    "import os\n",
    "import textract\n",
    "\n",
    "from concurrent.futures import ThreadPoolExecutor\n",
    "from concurrent.futures import as_completed\n",
    "from concurrent.futures import wait\n",
    "from time import sleep\n",
    "from random import random"
   ]
  },
  {
   "cell_type": "code",
   "execution_count": null,
   "metadata": {},
   "outputs": [],
   "source": [
    "import pdf2image\n",
    "import shutil\n",
    "import pytesseract\n",
    "from pytesseract import Output, TesseractError"
   ]
  },
  {
   "cell_type": "code",
   "execution_count": null,
   "metadata": {},
   "outputs": [],
   "source": [
    "processed_files_file = './processed_files.txt'\n",
    "\n",
    "directories = [\n",
    "            \"./files/\"           \n",
    "            ]\n",
    "save_dirs = [\n",
    "            \"./txt_files\"\n",
    "            ]"
   ]
  },
  {
   "cell_type": "code",
   "execution_count": null,
   "metadata": {},
   "outputs": [],
   "source": [
    "import os, shutil\n",
    "folder = '/path/to/folder'\n",
    "\n",
    "def delete_folder(folder):\n",
    "    for filename in os.listdir(folder):\n",
    "        file_path = os.path.join(folder, filename)\n",
    "        try:\n",
    "            if os.path.isfile(file_path) or os.path.islink(file_path):\n",
    "                os.unlink(file_path)\n",
    "            elif os.path.isdir(file_path):\n",
    "                shutil.rmtree(file_path)\n",
    "            \n",
    "        except Exception as e:\n",
    "            print('Failed to delete %s. Reason: %s' % (file_path, e))\n",
    "    \n",
    "         "
   ]
  },
  {
   "cell_type": "code",
   "execution_count": null,
   "metadata": {},
   "outputs": [],
   "source": [
    "def process_pdf(directory, save_dir, pdf_filename):\n",
    "    pdf_file = os.path.join(directory, pdf_filename)\n",
    "    filename = pdf_filename.replace('.pdf', '')   #no filetype\n",
    "    \n",
    "    with open(processed_files_file, 'r') as f:\n",
    "        if pdf_file in f.read().splitlines():\n",
    "            print(f'{pdf_file} has already been processed.')\n",
    "            f.close()\n",
    "            return\n",
    "        elif(os.path.exists(os.path.join(save_dir, pdf_filename.replace('.pdf', '.txt')))):\n",
    "            print(f'{pdf_file} has already been processed.')\n",
    "            return\n",
    "        else:    \n",
    "            pdf_path = directory + pdf_filename\n",
    "            img_path = './'+filename.replace(\".\", \"_\").replace(\",\", \"_\")\n",
    "            \n",
    "            if not os.path.exists(img_path):\n",
    "                os.makedirs(img_path)\n",
    "            \n",
    "            pages = pdf2image.convert_from_path(pdf_path,output_folder=img_path, dpi=300, thread_count=25)\n",
    "            \n",
    "            try:\n",
    "                for pageNum,imgBlob in enumerate(pages):\n",
    "                    text = pytesseract.image_to_string(imgBlob,lang='ind', config='--psm 6')\n",
    "                    with open(os.path.join(save_dir, filename+'.txt'), 'a') as the_file:\n",
    "                        the_file.write(text)\n",
    "                delete_folder(img_path)      \n",
    "            except RuntimeError as timeout_error:\n",
    "                # Tesseract processing is terminated\n",
    "                pass\n",
    "            \n",
    "            delete_folder(img_path)      \n",
    "            with open(processed_files_file, 'a') as f2:\n",
    "                f2.write(pdf_file + '\\n')  \n",
    "                f2.close()\n",
    "            sleep(random())\n",
    "            return filename  \n"
   ]
  },
  {
   "cell_type": "code",
   "execution_count": null,
   "metadata": {},
   "outputs": [],
   "source": [
    "def process_doc(directory, save_dir, filename):\n",
    "    pdf_file = os.path.join(directory, filename)\n",
    "    with open(processed_files_file, 'r') as f:\n",
    "        if pdf_file in f.read().splitlines():\n",
    "            print(f'{pdf_file} has already been processed.')\n",
    "            f.close()\n",
    "            return\n",
    "        \n",
    "    if filename[-4:] == \".doc\":\n",
    "        #return textract.process(filename).decode('utf-8').replace('\\n\\n','||').replace('\\n','').replace('||','\\n\\n')\n",
    "        MY_TEXT =  textract.process(os.path.join(directory, filename)).decode('utf-8').replace('\\n',' ').replace('\\u3000','').replace('\\t','\\n')\n",
    "        text_file = open(os.path.join(save_dir, filename.replace('.doc', '.txt')), \"w\") \n",
    "        print(MY_TEXT, file=text_file)\n",
    "        text_file.close()\n",
    "    \n",
    "    elif filename[-5:] == \".docx\":\n",
    "        MY_TEXT =  textract.process(os.path.join(directory, filename)).decode('utf-8').replace('\\n',' ').replace('\\u3000','').replace('\\t','\\n')\n",
    "\n",
    "        text_file = open(os.path.join(save_dir, filename.replace('.docx', '.txt')), \"w\")\n",
    "        print(MY_TEXT, file=text_file)\n",
    "        text_file.close()\n",
    "\n",
    "    with open(processed_files_file, 'a') as f2:\n",
    "        f2.write(pdf_file + '\\n')  \n",
    "        f2.close()\n",
    "    sleep(random())\n",
    "    return filename    "
   ]
  },
  {
   "cell_type": "code",
   "execution_count": null,
   "metadata": {},
   "outputs": [],
   "source": [
    "import os\n",
    "import pytesseract\n",
    "from PIL import Image\n",
    "import fitz\n",
    "from wand.image import Image as Image2\n",
    "from concurrent.futures import ProcessPoolExecutor\n",
    "from time import sleep\n",
    "from random import random\n",
    "import textract\n",
    "from concurrent.futures import ThreadPoolExecutor\n",
    "from concurrent.futures import as_completed\n",
    "from concurrent.futures import wait"
   ]
  },
  {
   "cell_type": "code",
   "execution_count": null,
   "metadata": {},
   "outputs": [],
   "source": [
    "directory = './files/'\n",
    "save_dir = './txt_files'\n",
    "\n",
    "pdf_filenames = [filename for filename in os.listdir(directory) if filename.endswith('.pdf')]\n",
    "pdf_filenames.sort(reverse=True)\n",
    "doc_filenames = [filename for filename in os.listdir(directory) if filename.endswith(tuple(['.doc','.docx']))]\n",
    "\n",
    "\n",
    "with ThreadPoolExecutor(max_workers=5) as executor:\n",
    "        # submit tasks and collect futures\n",
    "    futures_pdf = [executor.submit(process_pdf, directory, save_dir, filename) for filename in pdf_filenames]\n",
    "    for future in as_completed(futures_pdf):\n",
    "            # retrieve the result\n",
    "        try:\n",
    "            data = future.result()\n",
    "        except Exception as exc:\n",
    "            print('generated an exception: %s' % (exc))\n",
    "        else:\n",
    "            print(data,\" success\")\n",
    "    \n",
    "    \n",
    "                    \n",
    "    futures_doc = [executor.submit(process_doc, directory, save_dir, filename) for filename in doc_filenames]\n",
    "    # process task results as they are available\n",
    "    for future in as_completed(futures_doc):\n",
    "        # retrieve the result\n",
    "        try:\n",
    "            data = future.result()\n",
    "        except Exception as exc:\n",
    "            print('generated an exception: %s' % (exc))\n",
    "        else:\n",
    "            print(data,\" success\")            \n",
    "\n"
   ]
  }
 ],
 "metadata": {
  "kernelspec": {
   "display_name": "Python 3.8.15 ('indo_ocr_py38')",
   "language": "python",
   "name": "python3"
  },
  "language_info": {
   "codemirror_mode": {
    "name": "ipython",
    "version": 3
   },
   "file_extension": ".py",
   "mimetype": "text/x-python",
   "name": "python",
   "nbconvert_exporter": "python",
   "pygments_lexer": "ipython3",
   "version": "3.8.15"
  },
  "orig_nbformat": 4,
  "vscode": {
   "interpreter": {
    "hash": "8c3fe8b807f35263ab4659338efcab4692b8351b0183a30a993c6bf82bdd3b1a"
   }
  }
 },
 "nbformat": 4,
 "nbformat_minor": 2
}
