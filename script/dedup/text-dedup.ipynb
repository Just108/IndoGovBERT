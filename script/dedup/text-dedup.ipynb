{
 "cells": [
  {
   "cell_type": "code",
   "execution_count": null,
   "metadata": {},
   "outputs": [],
   "source": [
    "import datasets\n"
   ]
  },
  {
   "cell_type": "code",
   "execution_count": null,
   "metadata": {},
   "outputs": [],
   "source": [
    "def dedup_dataset_from_file(filename,save_path):\n",
    "    dataset = datasets.load_dataset(\"text\", data_files={\"train\": [filename]},split=\"train\")\n",
    "    dataset.save_to_disk(save_path)\n",
    "    dataset.load_from_disk(save_path)\n",
    "\n"
   ]
  },
  {
   "cell_type": "code",
   "execution_count": null,
   "metadata": {},
   "outputs": [],
   "source": [
    "dedup_dataset_from_file(\"./Datasets/output_dedup_persuratan2_detox.txt\",\"persuratan_detox\")"
   ]
  },
  {
   "cell_type": "code",
   "execution_count": null,
   "metadata": {},
   "outputs": [],
   "source": [
    "!python -m text_dedup.minhash --path ./persuratan_detox --output \"./output/minhash/persuratan_detox\" --local --column text --num_perm 200 --ngram 2 --threshold 0.5  --split train \n"
   ]
  },
  {
   "cell_type": "code",
   "execution_count": null,
   "metadata": {},
   "outputs": [],
   "source": [
    "dedup_dataset_from_file(\"./Datasets/persuratan_clean.txt\",\"persuratan_clean\")\n",
    "dedup_dataset_from_file(\"./Datasets/persuratan_raw.txt\",\"persuratan_raw\")\n",
    "dedup_dataset_from_file(\"./Datasets/peraturan_train.txt\",\"peraturan_train\")\n",
    "dedup_dataset_from_file(\"./Datasets/peraturan_valid.txt\",\"peraturan_valid\")"
   ]
  },
  {
   "cell_type": "code",
   "execution_count": null,
   "metadata": {},
   "outputs": [],
   "source": [
    "!python -m text_dedup.minhash --path ./persuratan_clean --output \"./output/minhash/persuratan_clean\" --local --column text --num_perm 200 --ngram 2 --threshold 0.5  --split train --b 50 --r 4\n"
   ]
  },
  {
   "cell_type": "code",
   "execution_count": null,
   "metadata": {},
   "outputs": [],
   "source": [
    "!python -m text_dedup.minhash --path persuratan_raw --output \"./output/minhash/persuratan_raw2\" --local --column text --num_perm 200 --ngram 2 --threshold 0.5 --split train --debug \n"
   ]
  },
  {
   "cell_type": "code",
   "execution_count": null,
   "metadata": {},
   "outputs": [],
   "source": [
    "!python -m text_dedup.minhash --path peraturan_train --output \"./output/minhash/dedup_peraturan\" --local --column text --num_perm 200 --ngram 2 --threshold 0.5 --split train --debug \n"
   ]
  },
  {
   "cell_type": "code",
   "execution_count": null,
   "metadata": {},
   "outputs": [],
   "source": [
    "!python -m text_dedup.minhash --path peraturan_train --output \"output/minhash/peraturan_train\" --local --column text --num_perm 200 --ngram 2 --threshold 0.5  --split train --debug --b 50 --r 4\n"
   ]
  },
  {
   "cell_type": "code",
   "execution_count": null,
   "metadata": {},
   "outputs": [],
   "source": [
    "!python -m text_dedup.minhash --path peraturan_valid --output \"output/minhash/peraturan_valid\" --local --column text --num_perm 200 --ngram 2 --threshold 0.5 --split train --debug --b 50 --r 4\n"
   ]
  },
  {
   "cell_type": "code",
   "execution_count": null,
   "metadata": {},
   "outputs": [],
   "source": [
    "dataset = datasets.load_dataset(\"text\", data_files={\"train\": [\"./Datasets/persuratan_clean.txt\"]},split=\"train\")"
   ]
  },
  {
   "cell_type": "code",
   "execution_count": null,
   "metadata": {},
   "outputs": [],
   "source": [
    "dataset"
   ]
  },
  {
   "cell_type": "code",
   "execution_count": null,
   "metadata": {},
   "outputs": [],
   "source": [
    "dataset.save_to_disk(\"temp_inp\")\n"
   ]
  },
  {
   "cell_type": "code",
   "execution_count": null,
   "metadata": {},
   "outputs": [],
   "source": [
    "dataset.load_from_disk(\"temp_inp\")\n"
   ]
  },
  {
   "cell_type": "code",
   "execution_count": null,
   "metadata": {},
   "outputs": [],
   "source": [
    "!python -m text_dedup.minhash --path ./temp_inp --local --column text --num_perm 200 --ngram 2 --threshold 0.5 --output temp --split train --debug --b 50 --r 4\n"
   ]
  },
  {
   "cell_type": "code",
   "execution_count": null,
   "metadata": {},
   "outputs": [],
   "source": [
    "  !python -m text_dedup.minhash \\\n",
    "  --path ./temp_inp \\\n",
    "  --local \\\n",
    "  --split \"train\" \\\n",
    "  --cache_dir \"./cache\" \\\n",
    "  --output \"output/minhash/persuratan_dedup\" \\\n",
    "  --column \"text\" \\\n",
    "  --batch_size 10000"
   ]
  }
 ],
 "metadata": {
  "kernelspec": {
   "display_name": "Python 3.9.16 ('mlm_case')",
   "language": "python",
   "name": "python3"
  },
  "language_info": {
   "codemirror_mode": {
    "name": "ipython",
    "version": 3
   },
   "file_extension": ".py",
   "mimetype": "text/x-python",
   "name": "python",
   "nbconvert_exporter": "python",
   "pygments_lexer": "ipython3",
   "version": "3.9.16"
  },
  "orig_nbformat": 4,
  "vscode": {
   "interpreter": {
    "hash": "8bdc176cfd976407ea8d3b724b553626915eb7fc952072b044e6c422b7b0ddd3"
   }
  }
 },
 "nbformat": 4,
 "nbformat_minor": 2
}
