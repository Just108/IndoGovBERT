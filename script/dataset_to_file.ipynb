{
 "cells": [
  {
   "cell_type": "code",
   "execution_count": 1,
   "metadata": {},
   "outputs": [],
   "source": [
    "from datasets import load_from_disk"
   ]
  },
  {
   "cell_type": "code",
   "execution_count": 2,
   "metadata": {},
   "outputs": [],
   "source": [
    "def dataset_to_file(dataset,suffix_file):\n",
    "    ds = load_from_disk(dataset)\n",
    "    print(len(ds))\n",
    "    \n",
    "    text_list = [ds[i]['text'] for i in range(len(ds))]\n",
    "    text = '\\n'.join(text_list)  # Join the text with newline characters\n",
    "    \n",
    "    with open(suffix_file, 'w') as file:\n",
    "        file.write(text)"
   ]
  },
  {
   "cell_type": "code",
   "execution_count": 9,
   "metadata": {},
   "outputs": [
    {
     "name": "stdout",
     "output_type": "stream",
     "text": [
      "122552\n"
     ]
    }
   ],
   "source": [
    "dataset_to_file(\"../output/minhash/peraturan_dataset/\",'../data/ds_minhash_peraturan_dataset.txt')"
   ]
  },
  {
   "cell_type": "code",
   "execution_count": 10,
   "metadata": {},
   "outputs": [
    {
     "name": "stdout",
     "output_type": "stream",
     "text": [
      "80430\n"
     ]
    }
   ],
   "source": [
    "dataset_to_file(\"../output/minhash/persuratan_dataset/\",'../data/ds_minhash_persuratan_dataset.txt')"
   ]
  },
  {
   "cell_type": "code",
   "execution_count": 11,
   "metadata": {},
   "outputs": [
    {
     "name": "stdout",
     "output_type": "stream",
     "text": [
      "202979\n"
     ]
    }
   ],
   "source": [
    "dataset_to_file(\"../output/minhash/all_dataset/\",'../data/ds_minhash_all_dataset.txt')"
   ]
  }
 ],
 "metadata": {
  "kernelspec": {
   "display_name": "venv_sdgs",
   "language": "python",
   "name": "python3"
  },
  "language_info": {
   "codemirror_mode": {
    "name": "ipython",
    "version": 3
   },
   "file_extension": ".py",
   "mimetype": "text/x-python",
   "name": "python",
   "nbconvert_exporter": "python",
   "pygments_lexer": "ipython3",
   "version": "3.9.7"
  },
  "orig_nbformat": 4
 },
 "nbformat": 4,
 "nbformat_minor": 2
}
